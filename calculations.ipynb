{
 "cells": [
  {
   "cell_type": "code",
   "execution_count": 102,
   "outputs": [],
   "source": [
    "import pandas as pd\n",
    "import numpy as np\n",
    "from collections import Counter\n",
    "import itertools\n"
   ],
   "metadata": {
    "collapsed": false,
    "pycharm": {
     "name": "#%%\n"
    }
   }
  },
  {
   "cell_type": "code",
   "source": [
    "orginal_data = pd.read_csv('data.csv', sep=',')\n",
    "data = orginal_data.copy(deep=True)"
   ],
   "metadata": {
    "collapsed": false,
    "pycharm": {
     "name": "#%%\n"
    }
   },
   "execution_count": 3,
   "outputs": []
  },
  {
   "cell_type": "code",
   "execution_count": 4,
   "outputs": [],
   "source": [
    "last_year = data[(data[\"Year\"] == 2020)]"
   ],
   "metadata": {
    "collapsed": false,
    "pycharm": {
     "name": "#%%\n"
    }
   }
  },
  {
   "cell_type": "markdown",
   "source": [
    "### Mean, median of IMDb and Rotten Tomatoes"
   ],
   "metadata": {
    "collapsed": false,
    "pycharm": {
     "name": "#%% md\n"
    }
   }
  },
  {
   "cell_type": "code",
   "execution_count": 12,
   "outputs": [
    {
     "data": {
      "text/plain": "5.940461725394897"
     },
     "execution_count": 12,
     "metadata": {},
     "output_type": "execute_result"
    }
   ],
   "source": [
    "last_year[\"IMDb\"].apply(lambda x: float(str(x)[:3])).mean()"
   ],
   "metadata": {
    "collapsed": false,
    "pycharm": {
     "name": "#%%\n"
    }
   }
  },
  {
   "cell_type": "code",
   "execution_count": null,
   "outputs": [],
   "source": [
    "last_year[\"Rotten Tomatoes\"].dropna().apply(lambda x: int(str(x)[:2])).mean()"
   ],
   "metadata": {
    "collapsed": false,
    "pycharm": {
     "name": "#%%\n",
     "is_executing": true
    }
   }
  },
  {
   "cell_type": "code",
   "execution_count": null,
   "outputs": [],
   "source": [
    "last_year[\"IMDb\"].apply(lambda x: float(str(x)[:3])).median()"
   ],
   "metadata": {
    "collapsed": false,
    "pycharm": {
     "name": "#%%\n",
     "is_executing": true
    }
   }
  },
  {
   "cell_type": "code",
   "execution_count": null,
   "outputs": [],
   "source": [
    "last_year[\"Rotten Tomatoes\"].dropna().apply(lambda x: int(str(x)[:2])).median()"
   ],
   "metadata": {
    "collapsed": false,
    "pycharm": {
     "name": "#%%\n",
     "is_executing": true
    }
   }
  },
  {
   "cell_type": "markdown",
   "source": [
    "### Standart deviation"
   ],
   "metadata": {
    "collapsed": false,
    "pycharm": {
     "name": "#%% md\n"
    }
   }
  },
  {
   "cell_type": "code",
   "execution_count": null,
   "outputs": [],
   "source": [],
   "metadata": {
    "collapsed": false,
    "pycharm": {
     "name": "#%%\n"
    }
   }
  },
  {
   "cell_type": "markdown",
   "source": [
    "## Netflix calculations"
   ],
   "metadata": {
    "collapsed": false
   }
  },
  {
   "cell_type": "code",
   "execution_count": null,
   "outputs": [],
   "source": [
    "Netflix_data = last_year[last_year[\"Netflix\"] == 1]"
   ],
   "metadata": {
    "collapsed": false,
    "pycharm": {
     "name": "#%%\n"
    }
   }
  },
  {
   "cell_type": "markdown",
   "source": [
    "### IMdB"
   ],
   "metadata": {
    "collapsed": false
   }
  },
  {
   "cell_type": "code",
   "source": [
    "Netflix_data[\"IMDb\"].apply(lambda x: float(str(x)[:3])).mean()"
   ],
   "metadata": {
    "collapsed": false,
    "pycharm": {
     "name": "#%%\n",
     "is_executing": true
    }
   },
   "execution_count": null,
   "outputs": []
  },
  {
   "cell_type": "code",
   "execution_count": null,
   "outputs": [],
   "source": [
    "Netflix_data[\"IMDb\"].apply(lambda x: float(str(x)[:3])).median()"
   ],
   "metadata": {
    "collapsed": false,
    "pycharm": {
     "name": "#%%\n",
     "is_executing": true
    }
   }
  },
  {
   "cell_type": "code",
   "execution_count": null,
   "outputs": [],
   "source": [
    "Netflix_data[\"IMDb\"].apply(lambda x: float(str(x)[:3])).std().round(3)"
   ],
   "metadata": {
    "collapsed": false,
    "pycharm": {
     "name": "#%%\n",
     "is_executing": true
    }
   }
  },
  {
   "cell_type": "markdown",
   "source": [
    "### Rotten Tomatoes"
   ],
   "metadata": {
    "collapsed": false
   }
  },
  {
   "cell_type": "code",
   "execution_count": null,
   "outputs": [],
   "source": [
    "Netflix_data[\"Rotten Tomatoes\"].dropna().apply(lambda x: float(str(x)[:2])).std().round(3)"
   ],
   "metadata": {
    "collapsed": false,
    "pycharm": {
     "name": "#%%\n",
     "is_executing": true
    }
   }
  },
  {
   "cell_type": "code",
   "execution_count": null,
   "outputs": [],
   "source": [
    "Netflix_data[\"Rotten Tomatoes\"].dropna().apply(lambda x: float(str(x)[:2])).mean().round(3)"
   ],
   "metadata": {
    "collapsed": false,
    "pycharm": {
     "name": "#%%\n",
     "is_executing": true
    }
   }
  },
  {
   "cell_type": "code",
   "execution_count": null,
   "outputs": [],
   "source": [
    "Netflix_data[\"Rotten Tomatoes\"].dropna().apply(lambda x: float(str(x)[:2])).median()"
   ],
   "metadata": {
    "collapsed": false,
    "pycharm": {
     "name": "#%%\n",
     "is_executing": true
    }
   }
  },
  {
   "cell_type": "markdown",
   "source": [
    "### Release date"
   ],
   "metadata": {
    "collapsed": false
   }
  },
  {
   "cell_type": "code",
   "execution_count": 78,
   "outputs": [
    {
     "data": {
      "text/plain": "dict_values([2, 1, 1, 1, 1, 1, 1, 2, 1, 1, 1, 2, 1, 2, 2, 3, 4, 1, 1, 8, 4, 6, 9, 3, 8, 3, 6, 4, 9, 8, 10, 10, 9, 10, 10, 6, 5, 12, 17, 11, 9, 20, 17, 18, 30, 25, 40, 35, 54, 62, 64, 71, 95, 106, 126, 172, 313, 449, 540, 573, 478, 201])"
     },
     "execution_count": 78,
     "metadata": {},
     "output_type": "execute_result"
    }
   ],
   "source": [
    "release_year = {}\n",
    "Netflix_release = data[(data[\"Netflix\"] == 1)]\n",
    "years = Netflix_release[\"Year\"].value_counts().sort_values()\n",
    "dict(sorted(years.items(), key=lambda x: x[0])).values()"
   ],
   "metadata": {
    "collapsed": false,
    "pycharm": {
     "name": "#%%\n"
    }
   }
  },
  {
   "cell_type": "markdown",
   "source": [
    "### Genres"
   ],
   "metadata": {
    "collapsed": false
   }
  },
  {
   "cell_type": "code",
   "execution_count": 175,
   "outputs": [],
   "source": [
    "genres = list(itertools.chain(*list(Netflix_release[\"Genres\"].dropna().apply(lambda x: x.split(\",\")))))\n",
    "Genres_info = dict(sorted(Counter(genres).items(), key=lambda x: x[1], reverse=True))\n",
    "gen = list(Genres_info.keys())\n",
    "gen.append(\"Others\")"
   ],
   "metadata": {
    "collapsed": false,
    "pycharm": {
     "name": "#%%\n"
    }
   }
  },
  {
   "cell_type": "markdown",
   "source": [
    "### Age and language"
   ],
   "metadata": {
    "collapsed": false
   }
  },
  {
   "cell_type": "code",
   "execution_count": null,
   "outputs": [],
   "source": [
    "Netflix_release[\"Age\"].dropna().value_counts()"
   ],
   "metadata": {
    "collapsed": false,
    "pycharm": {
     "name": "#%%\n",
     "is_executing": true
    }
   }
  },
  {
   "cell_type": "code",
   "execution_count": 192,
   "outputs": [
    {
     "data": {
      "text/plain": "dict_keys(['English', 'Hindi', 'Spanish', 'French', 'Arabic', 'German', 'Japanese', 'Italian', 'Mandarin', 'Tamil', 'Filipino', 'Turkish', 'Tagalog', 'Indonesian', 'Portuguese', 'Russian', 'Cantonese', 'Korean', 'Punjabi', 'Chinese', 'Telugu', 'Marathi', 'Malayalam', 'Thai', 'Bangla', 'Latin', 'Urdu', 'Polish', 'Dutch', 'Swedish', 'Malay', 'Hebrew', 'Ukrainian', 'Catalan', 'Afrikaans', 'Romanian', 'Danish', 'Yoruba', 'Hungarian', 'Basque', 'Vietnamese', 'American Sign Language', 'Norwegian', 'Yiddish', 'None', 'Min Nan', 'Gujarati', 'Ibo', 'Swahili', 'Serbian', 'Aboriginal', 'Wolof', 'Persian', 'Irish', 'Xhosa', 'Khmer', 'Finnish', 'Flemish', 'Zulu', 'Bhojpuri', 'Georgian', 'Akan', 'Armenian', 'Assamese', 'Kannada', 'Hausa', 'Icelandic', 'Bulgarian', 'Quechua', 'Albanian', 'Saami', 'Manipuri', 'Swiss German', 'Scottish Gaelic', 'Slovenian', 'Pashto', 'Czech', 'Sanskrit', 'Serbo-Croatian', 'Maori', 'Sinhala', 'Bosnian', 'Sign Languages', 'East-Greenlandic', 'Nyanja', 'Dinka', 'Esperanto', 'Sioux', 'Pawnee', 'Japanese Sign Language', 'Washoe', 'Navajo', 'Turkmen', 'Amharic', 'Tibetan', 'Brazilian Sign Language', 'Greek', 'Hawaiian', 'Kurdish', 'Lingala', 'Ukrainian Sign Language', 'Inuktitut', 'Awadhi', 'Shanghainese', 'Tulu', 'Mixtec', 'Azerbaijani', 'Maya', 'Tarahumara', 'Kashmiri', 'Kalaallisut', 'Tajik', 'Fulah', 'Nama', 'Teochew'])"
     },
     "execution_count": 192,
     "metadata": {},
     "output_type": "execute_result"
    }
   ],
   "source": [
    "Netflix_languages = list(itertools.chain(*list(Netflix_release[\"Language\"].dropna().apply(lambda x: x.split(\",\")))))\n",
    "dict(sorted(Counter(Netflix_languages).items(), key=lambda x: x[1], reverse=True)).keys()"
   ],
   "metadata": {
    "collapsed": false,
    "pycharm": {
     "name": "#%%\n"
    }
   }
  },
  {
   "cell_type": "markdown",
   "source": [
    "### Directors"
   ],
   "metadata": {
    "collapsed": false
   }
  },
  {
   "cell_type": "code",
   "execution_count": null,
   "outputs": [],
   "source": [
    "directors = list(itertools.chain(*list(Netflix_release[\"Directors\"].dropna().apply(lambda x: x.split(\",\")))))\n",
    "dict(sorted(Counter(directors).items(), key=lambda x: x[1], reverse=True))"
   ],
   "metadata": {
    "collapsed": false,
    "pycharm": {
     "name": "#%%\n",
     "is_executing": true
    }
   }
  },
  {
   "cell_type": "markdown",
   "source": [
    "### Overall"
   ],
   "metadata": {
    "collapsed": false
   }
  },
  {
   "cell_type": "code",
   "execution_count": 194,
   "outputs": [],
   "source": [
    "Overall_data = data"
   ],
   "metadata": {
    "collapsed": false,
    "pycharm": {
     "name": "#%%\n"
    }
   }
  },
  {
   "cell_type": "code",
   "execution_count": 198,
   "outputs": [
    {
     "data": {
      "text/plain": "[1914,\n 1915,\n 1916,\n 1919,\n 1920,\n 1922,\n 1923,\n 1925,\n 1927,\n 1928,\n 1929,\n 1930,\n 1931,\n 1932,\n 1933,\n 1934,\n 1935,\n 1936,\n 1937,\n 1938,\n 1939,\n 1940,\n 1941,\n 1942,\n 1943,\n 1944,\n 1945,\n 1946,\n 1947,\n 1948,\n 1949,\n 1950,\n 1951,\n 1952,\n 1953,\n 1954,\n 1955,\n 1956,\n 1957,\n 1958,\n 1959,\n 1960,\n 1961,\n 1962,\n 1963,\n 1964,\n 1965,\n 1966,\n 1967,\n 1968,\n 1969,\n 1970,\n 1971,\n 1972,\n 1973,\n 1974,\n 1975,\n 1976,\n 1977,\n 1978,\n 1979,\n 1980,\n 1981,\n 1982,\n 1983,\n 1984,\n 1985,\n 1986,\n 1987,\n 1988,\n 1989,\n 1990,\n 1991,\n 1992,\n 1993,\n 1994,\n 1995,\n 1996,\n 1997,\n 1998,\n 1999,\n 2000,\n 2001,\n 2002,\n 2003,\n 2004,\n 2005,\n 2006,\n 2007,\n 2008,\n 2009,\n 2010,\n 2011,\n 2012,\n 2013,\n 2014,\n 2015,\n 2016,\n 2017,\n 2018,\n 2019,\n 2020,\n 2021]"
     },
     "execution_count": 198,
     "metadata": {},
     "output_type": "execute_result"
    }
   ],
   "source": [
    "years = Overall_data[\"Year\"].value_counts().sort_values()\n",
    "list(dict(sorted(years.items(), key=lambda x: x[0])).keys())"
   ],
   "metadata": {
    "collapsed": false,
    "pycharm": {
     "name": "#%%\n"
    }
   }
  }
 ],
 "metadata": {
  "kernelspec": {
   "display_name": "Python 3",
   "language": "python",
   "name": "python3"
  },
  "language_info": {
   "codemirror_mode": {
    "name": "ipython",
    "version": 2
   },
   "file_extension": ".py",
   "mimetype": "text/x-python",
   "name": "python",
   "nbconvert_exporter": "python",
   "pygments_lexer": "ipython2",
   "version": "2.7.6"
  }
 },
 "nbformat": 4,
 "nbformat_minor": 0
}